{
  "nbformat": 4,
  "nbformat_minor": 0,
  "metadata": {
    "colab": {
      "name": "stats_generate_id.ipynb",
      "provenance": [],
      "include_colab_link": true
    },
    "kernelspec": {
      "name": "python3",
      "display_name": "Python 3"
    },
    "language_info": {
      "name": "python"
    }
  },
  "cells": [
    {
      "cell_type": "markdown",
      "metadata": {
        "id": "view-in-github",
        "colab_type": "text"
      },
      "source": [
        "<a href=\"https://colab.research.google.com/github/a1ia3kids/JetpackCompose-Sample/blob/master/tools/stats-client-id-secret-generator.ipynb\" target=\"_parent\"><img src=\"https://colab.research.google.com/assets/colab-badge.svg\" alt=\"Open In Colab\"/></a>"
      ]
    },
    {
      "cell_type": "markdown",
      "source": [
        "StatsSDK ClientID発行手順\n",
        "1. `ランタイム>すべてのセルを実行`をクリック\n",
        "2. 表示されたClientID ClientSecretを1passwordの`Stats Android Admin`に登録\n",
        "3. Datastoreのcfs_oauth_clientsに登録して完了"
      ],
      "metadata": {
        "id": "HF-ATpqo6ba7"
      }
    },
    {
      "cell_type": "code",
      "execution_count": null,
      "metadata": {
        "id": "oFIll2cv4_oR"
      },
      "outputs": [],
      "source": [
        "LENGTH_ID = 20\n",
        "LENGTH_SECRET = 40"
      ]
    },
    {
      "cell_type": "code",
      "source": [
        "import random, string\n",
        "\n",
        "def generate(length):\n",
        "  return ''.join(random.choices(string.ascii_letters + string.digits, k=length))"
      ],
      "metadata": {
        "id": "TwgH97Oo5OsM"
      },
      "execution_count": null,
      "outputs": []
    },
    {
      "cell_type": "code",
      "source": [
        "client_id = generate(LENGTH_ID)\n",
        "client_secret = generate(LENGTH_SECRET)\n",
        "\n",
        "print(f\"ClientID: {client_id} \\nClientSecret: {client_secret}\")"
      ],
      "metadata": {
        "colab": {
          "base_uri": "https://localhost:8080/"
        },
        "id": "h46aOMWd6Xa9",
        "outputId": "ccd84dcd-cd64-41c3-8a14-75fe182fcd31"
      },
      "execution_count": null,
      "outputs": [
        {
          "output_type": "stream",
          "name": "stdout",
          "text": [
            "ClientID: cOg8UCnkJlq5kQGV1sW1 \n",
            "ClientSecret: BUNeUPyjCCp420mYciQulN9CKCba57I208XL5nzQ\n"
          ]
        }
      ]
    }
  ]
}